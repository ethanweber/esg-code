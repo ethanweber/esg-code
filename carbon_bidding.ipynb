{
 "cells": [
  {
   "cell_type": "code",
   "execution_count": 19,
   "metadata": {},
   "outputs": [],
   "source": [
    "# imports\n",
    "\n",
    "import csv\n",
    "import matplotlib\n",
    "import numpy as np\n",
    "import matplotlib.pyplot as plt\n",
    "%matplotlib inline\n",
    "import copy"
   ]
  },
  {
   "cell_type": "code",
   "execution_count": 35,
   "metadata": {},
   "outputs": [],
   "source": [
    "portfolios = {}\n",
    "# example:\n",
    "# portfolios[\"old_timers\"] # portfolio\n",
    "# portfolios[\"old_timers\"][\"Tobin Portfolio\"] = [quantity, price]"
   ]
  },
  {
   "cell_type": "code",
   "execution_count": 36,
   "metadata": {},
   "outputs": [],
   "source": [
    "# type\n",
    "# normal, baseload, middle\n",
    "TYPE = \"normal\""
   ]
  },
  {
   "cell_type": "code",
   "execution_count": 39,
   "metadata": {},
   "outputs": [],
   "source": [
    "# go through and collect the data into python arrays\n",
    "\n",
    "with open('carbon_csv.csv') as csv_file:\n",
    "    csv_reader = csv.reader(csv_file, delimiter=',')\n",
    "    count = 0\n",
    "    current_portfolio_name = None\n",
    "    skip_again = False\n",
    "    for row in csv_reader:\n",
    "        count += 1\n",
    "        if count < 3:\n",
    "            continue\n",
    "            \n",
    "        portfolio_name, asset, quantity, price = row[0], row[1], row[2], row[9]\n",
    "        \n",
    "        if portfolio_name not in portfolios:\n",
    "            portfolios[portfolio_name] = {}\n",
    "\n",
    "        portfolios[portfolio_name][asset] = [float(quantity), float(price)]\n",
    "        \n",
    "portfolios_saved_copy = copy.deepcopy(portfolios)"
   ]
  },
  {
   "cell_type": "code",
   "execution_count": 42,
   "metadata": {},
   "outputs": [],
   "source": [
    "demands = []\n",
    "\n",
    "with open('demand_forecasts.csv') as csv_file:\n",
    "    csv_reader = csv.reader(csv_file, delimiter=',')\n",
    "    count = -1\n",
    "    for row in csv_reader:\n",
    "        count += 1\n",
    "        if count < 2:\n",
    "            continue\n",
    "            \n",
    "        float_day_forcast = []\n",
    "        for i in row[2:]:\n",
    "            float_day_forcast.append(float(i))\n",
    "            \n",
    "        demands.append(np.array(float_day_forcast))\n",
    "        count += 1\n",
    "\n",
    "demands = np.array(demands)"
   ]
  },
  {
   "cell_type": "code",
   "execution_count": 43,
   "metadata": {},
   "outputs": [],
   "source": [
    "def calculate_market_clearing_price(quantity_to_cross, graph=False):\n",
    "    \n",
    "    quantities_and_prices = []\n",
    "\n",
    "    for portfolio_name in portfolios.keys():\n",
    "        portfolio = portfolios[portfolio_name]\n",
    "        for asset_name in portfolio.keys():\n",
    "            quantity, price = portfolio[asset_name]\n",
    "            point = (quantity, price)\n",
    "            quantities_and_prices.append(point)\n",
    "            \n",
    "    # sort by the prices\n",
    "    sorted_quantities_and_prices = sorted(quantities_and_prices, key=lambda x: x[1])\n",
    "    \n",
    "    x_quantities = np.array([i[0] for i in sorted_quantities_and_prices])\n",
    "    # sum of quantities\n",
    "    sum_of_quants = []\n",
    "    running_sum = 0\n",
    "    for q in x_quantities:\n",
    "        running_sum += q\n",
    "        sum_of_quants.append(running_sum)\n",
    "    sum_of_quants = np.array(sum_of_quants)\n",
    "\n",
    "    y_prices = np.array([i[1] for i in sorted_quantities_and_prices])\n",
    "    \n",
    "    if graph:\n",
    "        plt.step(sum_of_quants, y_prices)\n",
    "        plt.title(\"Aggregate Supply Curve\")\n",
    "        plt.xlabel('Capacity')\n",
    "        plt.ylabel('Price ($/MWH)')\n",
    "        plt.show()\n",
    "        \n",
    "        \n",
    "    # take the quantity and return the clearning price\n",
    "    index = 0\n",
    "    for i in range(len(sum_of_quants)):\n",
    "        if sum_of_quants[i] > quantity_to_cross:\n",
    "            # previous quantity is where the\n",
    "            index = i\n",
    "            break\n",
    "    return y_prices[index]\n"
   ]
  },
  {
   "cell_type": "code",
   "execution_count": 44,
   "metadata": {},
   "outputs": [
    {
     "name": "stdout",
     "output_type": "stream",
     "text": [
      "('market_clearning_price', 54.54740114)\n"
     ]
    }
   ],
   "source": [
    "test_quantity = 16000\n",
    "market_clearing_price = calculate_market_clearing_price(test_quantity)\n",
    "\n",
    "print(\"market_clearning_price\", market_clearing_price)\n",
    "\n"
   ]
  },
  {
   "cell_type": "code",
   "execution_count": 45,
   "metadata": {},
   "outputs": [
    {
     "data": {
      "text/plain": [
       "['Phelps Portfolio',\n",
       " 'Modigliani Portfolio',\n",
       " 'Ostrom Portfolio',\n",
       " 'Nash Portfolio',\n",
       " 'Samuelson Portfolio',\n",
       " 'Tobin Portfolio',\n",
       " 'Vickrey Portfolio']"
      ]
     },
     "execution_count": 45,
     "metadata": {},
     "output_type": "execute_result"
    }
   ],
   "source": [
    "portfolios.keys()"
   ]
  },
  {
   "cell_type": "code",
   "execution_count": 47,
   "metadata": {},
   "outputs": [
    {
     "data": {
      "image/png": "[encoded data removed]",
      "text/plain": [
       "<Figure size 432x288 with 1 Axes>"
      ]
     },
     "metadata": {},
     "output_type": "display_data"
    },
    {
     "name": "stdout",
     "output_type": "stream",
     "text": [
      "('profit without modifications', 45149.74501650001)\n"
     ]
    }
   ],
   "source": [
    "# calculate profit\n",
    "\n",
    "portfolio_name = \"Old_Timers\"\n",
    "day_number = 0\n",
    "hour = 2\n",
    "estimated_quantity = demands[day_number][hour]\n",
    "market_clearning_price = calculate_market_clearing_price(estimated_quantity, graph=True)\n",
    "\n",
    "def get_profit_for_portfolio(portfolio_name, clearning_price):\n",
    "    portfolio = portfolios[portfolio_name]\n",
    "    profit = 0\n",
    "    for q, asset_p in portfolio.values():\n",
    "        if asset_p < clearning_price:\n",
    "            profit += q*(clearning_price - asset_p)\n",
    "    return profit\n",
    "\n",
    "\n",
    "profit = get_profit_for_portfolio(\"Phelps Portfolio\", market_clearning_price)\n",
    "\n",
    "print(\"profit without modifications\", profit)\n"
   ]
  },
  {
   "cell_type": "code",
   "execution_count": 51,
   "metadata": {},
   "outputs": [
    {
     "name": "stdout",
     "output_type": "stream",
     "text": [
      "Phelps Portfolio, 467314.30287\n",
      "Modigliani Portfolio, 216989.596492\n",
      "Ostrom Portfolio, 339036.33777\n",
      "Nash Portfolio, 145439.459894\n",
      "Samuelson Portfolio, 176775.510774\n",
      "Tobin Portfolio, 690998.088366\n",
      "Vickrey Portfolio, 1030708.25317\n"
     ]
    }
   ],
   "source": [
    "for portfolio in portfolios.keys():\n",
    "    total_profit = 0.0\n",
    "    for day_number in range(3, 6):\n",
    "        for hour in range(0, 4):\n",
    "            estimated_quantity = demands[day_number][hour]\n",
    "            market_clearning_price = calculate_market_clearing_price(estimated_quantity, graph=False)\n",
    "            \n",
    "            profit = get_profit_for_portfolio(portfolio, market_clearning_price)\n",
    "            \n",
    "            total_profit += profit\n",
    "            \n",
    "    print(\"{}, {}\".format(portfolio, total_profit))\n"
   ]
  },
  {
   "cell_type": "code",
   "execution_count": null,
   "metadata": {},
   "outputs": [],
   "source": []
  }
 ],
 "metadata": {
  "kernelspec": {
   "display_name": "Python 3",
   "language": "python",
   "name": "python3"
  },
  "language_info": {
   "codemirror_mode": {
    "name": "ipython",
    "version": 2
   },
   "file_extension": ".py",
   "mimetype": "text/x-python",
   "name": "python",
   "nbconvert_exporter": "python",
   "pygments_lexer": "ipython2",
   "version": "2.7.14"
  }
 },
 "nbformat": 4,
 "nbformat_minor": 2
}
