{
 "cells": [
  {
   "cell_type": "code",
   "execution_count": 41,
   "metadata": {},
   "outputs": [],
   "source": [
    "# imports\n",
    "\n",
    "import csv\n",
    "import matplotlib\n",
    "import numpy as np\n",
    "import matplotlib.pyplot as plt\n",
    "%matplotlib inline"
   ]
  },
  {
   "cell_type": "code",
   "execution_count": 35,
   "metadata": {},
   "outputs": [],
   "source": [
    "portfolios = {}\n",
    "# example:\n",
    "# portfolios[\"old_timers\"] # portfolio\n",
    "# portfolios[\"old_timers\"][\"Tobin Portfolio\"] = [quantity, price]"
   ]
  },
  {
   "cell_type": "code",
   "execution_count": 36,
   "metadata": {},
   "outputs": [],
   "source": [
    "# go through and collect the data into python arrays\n",
    "with open('portfolios.csv') as csv_file:\n",
    "    csv_reader = csv.reader(csv_file, delimiter=',')\n",
    "    count = 0\n",
    "    current_portfolio_name = None\n",
    "    skip_again = False\n",
    "    for row in csv_reader:\n",
    "        if skip_again:\n",
    "            skip_again = False\n",
    "            continue\n",
    "        if row[0] != \"\" and row[0][0] == \"(\":\n",
    "            current_portfolio_name = row[0][2:-1]\n",
    "            portfolios[current_portfolio_name] = {}\n",
    "            \n",
    "            skip_again = True\n",
    "            # then go onto next line\n",
    "            continue\n",
    "        if current_portfolio_name is not None:\n",
    "            asset_name = row[0]\n",
    "            quantity = float(row[1])\n",
    "            price = float(row[4])\n",
    "            portfolios[current_portfolio_name][asset_name] = [quantity, price]\n"
   ]
  },
  {
   "cell_type": "code",
   "execution_count": 37,
   "metadata": {},
   "outputs": [],
   "source": [
    "quantities_and_prices = []\n",
    "\n",
    "for portfolio_name in portfolios.keys():\n",
    "    portfolio = portfolios[portfolio_name]\n",
    "    for asset_name in portfolio.keys():\n",
    "        quantity, price = portfolio[asset_name]\n",
    "        point = (quantity, price)\n",
    "        quantities_and_prices.append(point)"
   ]
  },
  {
   "cell_type": "code",
   "execution_count": 38,
   "metadata": {},
   "outputs": [],
   "source": [
    "# sort by the prices\n",
    "sorted_quantities_and_prices = sorted(quantities_and_prices, key=lambda x: x[1])\n"
   ]
  },
  {
   "cell_type": "code",
   "execution_count": 44,
   "metadata": {},
   "outputs": [],
   "source": [
    "x_quantities = np.array([i[0] for i in sorted_quantities_and_prices])\n",
    "# sum of quantities\n",
    "sum_of_quants = []\n",
    "running_sum = 0\n",
    "for q in x_quantities:\n",
    "    running_sum += q\n",
    "    sum_of_quants.append(running_sum)\n",
    "sum_of_quants = np.array(sum_of_quants)\n",
    "\n",
    "y_prices = np.array([i[1] for i in sorted_quantities_and_prices])"
   ]
  },
  {
   "cell_type": "code",
   "execution_count": 47,
   "metadata": {},
   "outputs": [
    {
     "data": {
      "image/png": "[encoded data removed]",
      "text/plain": [
       "<Figure size 432x288 with 1 Axes>"
      ]
     },
     "metadata": {},
     "output_type": "display_data"
    }
   ],
   "source": [
    "plt.step(sum_of_quants, y_prices)\n",
    "plt.title(\"Aggregate Supply Curve\")\n",
    "plt.xlabel('Capacity')\n",
    "plt.ylabel('Price ($/MWH)')\n",
    "plt.show()"
   ]
  },
  {
   "cell_type": "code",
   "execution_count": null,
   "metadata": {},
   "outputs": [],
   "source": []
  }
 ],
 "metadata": {
  "kernelspec": {
   "display_name": "Python 3",
   "language": "python",
   "name": "python3"
  },
  "language_info": {
   "codemirror_mode": {
    "name": "ipython",
    "version": 2
   },
   "file_extension": ".py",
   "mimetype": "text/x-python",
   "name": "python",
   "nbconvert_exporter": "python",
   "pygments_lexer": "ipython2",
   "version": "2.7.14"
  }
 },
 "nbformat": 4,
 "nbformat_minor": 2
}
